{
 "cells": [
  {
   "cell_type": "markdown",
   "metadata": {},
   "source": [
    "# Analyzing Google Play Store Dataset"
   ]
  },
  {
   "cell_type": "markdown",
   "metadata": {},
   "source": [
    "This notebook goes over the basics of working with CSV files in Jupyter Notebooks. \n",
    "As an example, we are using a dataset of [Google Play Store Apps](https://www.kaggle.com/lava18/google-play-store-apps). The goal is to get insights into how the most popular categories of apps on Google Play."
   ]
  },
  {
   "cell_type": "code",
   "execution_count": 8,
   "metadata": {},
   "outputs": [
    {
     "name": "stdout",
     "output_type": "stream",
     "text": [
      "10841\n"
     ]
    },
    {
     "data": {
      "text/plain": [
       "OrderedDict([('App', 'Photo Editor & Candy Camera & Grid & ScrapBook'),\n",
       "             ('Category', 'ART_AND_DESIGN'),\n",
       "             ('Rating', '4.1'),\n",
       "             ('Reviews', '159'),\n",
       "             ('Size', '19M'),\n",
       "             ('Installs', '10,000+'),\n",
       "             ('Type', 'Free'),\n",
       "             ('Price', '0'),\n",
       "             ('Content Rating', 'Everyone'),\n",
       "             ('Genres', 'Art & Design'),\n",
       "             ('Last Updated', 'January 7, 2018'),\n",
       "             ('Current Ver', '1.0.0'),\n",
       "             ('Android Ver', '4.0.3 and up')])"
      ]
     },
     "execution_count": 8,
     "metadata": {},
     "output_type": "execute_result"
    }
   ],
   "source": [
    "import csv\n",
    "\n",
    "# use some IPython magic to set floats to 2 decimal points\n",
    "%precision 2  \n",
    "\n",
    "with open('datasets/googleplaystore.csv', encoding=\"utf8\") as csvfile:\n",
    "    gps = list(csv.DictReader(csvfile)) # save dataset into a list of dictionaries (where each dictionary represents one app)\n",
    "\n",
    "print(len(gps))\n",
    "gps[0] # print the first entry to look over the structure"
   ]
  },
  {
   "cell_type": "code",
   "execution_count": 18,
   "metadata": {},
   "outputs": [
    {
     "data": {
      "text/plain": [
       "odict_keys(['App', 'Category', 'Rating', 'Reviews', 'Size', 'Installs', 'Type', 'Price', 'Content Rating', 'Genres', 'Last Updated', 'Current Ver', 'Android Ver'])"
      ]
     },
     "execution_count": 18,
     "metadata": {},
     "output_type": "execute_result"
    }
   ],
   "source": [
    "gps[0].keys()"
   ]
  },
  {
   "cell_type": "markdown",
   "metadata": {},
   "source": [
    "I am interested in two parameters: a **number of installs** and how are they related to the **app category** (genre). Let's first overview the number of installs. \n",
    "\n",
    "The values in the \"Installs\" column however contain \"+\" signs at the end of the number, some numbers are formatted with a comma, and some have wrong values (\"Free\"). Let's quickly format the value in a way we could process them later."
   ]
  },
  {
   "cell_type": "code",
   "execution_count": 13,
   "metadata": {},
   "outputs": [
    {
     "name": "stdout",
     "output_type": "stream",
     "text": [
      "Average num of downloads\n",
      "15462912.414629648\n",
      "\n",
      "Max\n",
      "1000000000\n",
      "\n",
      "Min\n",
      "0\n"
     ]
    }
   ],
   "source": [
    "def clean_values(value):\n",
    "    return value.replace(\"+\", \"\").replace(\",\", \"\").replace(\"Free\", \"0\")\n",
    "\n",
    "print(\"Average num of downloads\")\n",
    "print(sum(int(clean_values(dic[\"Installs\"])) for dic in gps) / len(gps))\n",
    "\n",
    "print(\"\\nMax\")\n",
    "print(max(int(clean_values(dic[\"Installs\"])) for dic in gps))\n",
    "\n",
    "print(\"\\nMin\")\n",
    "print(min(int(clean_values(dic[\"Installs\"])) for dic in gps))"
   ]
  },
  {
   "cell_type": "code",
   "execution_count": 10,
   "metadata": {},
   "outputs": [
    {
     "name": "stdout",
     "output_type": "stream",
     "text": [
      "120\n"
     ]
    }
   ],
   "source": [
    "# Create a set for all the genres\n",
    "\n",
    "genres = set(dic[\"Genres\"] for dic in gps)\n",
    "\n",
    "print(len(genres))"
   ]
  },
  {
   "cell_type": "code",
   "execution_count": 19,
   "metadata": {},
   "outputs": [
    {
     "data": {
      "text/plain": [
       "[('Communication', 32647276251.00),\n",
       " ('Productivity', 14176091369.00),\n",
       " ('Social', 14069867902.00),\n",
       " ('Tools', 11442771915.00),\n",
       " ('Arcade', 10727129155.00),\n",
       " ('Photography', 10088247655.00),\n",
       " ('Casual', 9662830740.00),\n",
       " ('Action', 9342039190.00),\n",
       " ('News & Magazines', 7496317760.00),\n",
       " ('Travel & Local', 6868787146.00)]"
      ]
     },
     "execution_count": 19,
     "metadata": {},
     "output_type": "execute_result"
    }
   ],
   "source": [
    "# Group apps by genres and get the average num of downloads by genre\n",
    "installs_by_genre = []\n",
    "\n",
    "for genre in genres:\n",
    "    sum_install = 0\n",
    "    apps_by_genre_count = 0\n",
    "    for dic in gps:\n",
    "        if dic[\"Genres\"] == genre:\n",
    "            sum_install += int(clean_values(dic[\"Installs\"]))\n",
    "            apps_by_genre_count =+1\n",
    "    installs_by_genre.append((genre, sum_install / apps_by_genre_count)) # append tuple (genre, avg_by_genre)\n",
    "\n",
    "# sort by avg_by_genre (at index 1) and reverse to get a descending-ordered list \n",
    "installs_by_genre.sort(key=lambda x : x[1])\n",
    "installs_by_genre.reverse()\n",
    "\n",
    "# let's see top 10 categories\n",
    "top10 = installs_by_genre[:10]\n",
    "top10"
   ]
  },
  {
   "cell_type": "code",
   "execution_count": null,
   "metadata": {},
   "outputs": [],
   "source": []
  }
 ],
 "metadata": {
  "kernelspec": {
   "display_name": "Python 3",
   "language": "python",
   "name": "python3"
  },
  "language_info": {
   "codemirror_mode": {
    "name": "ipython",
    "version": 3
   },
   "file_extension": ".py",
   "mimetype": "text/x-python",
   "name": "python",
   "nbconvert_exporter": "python",
   "pygments_lexer": "ipython3",
   "version": "3.6.4"
  }
 },
 "nbformat": 4,
 "nbformat_minor": 2
}
